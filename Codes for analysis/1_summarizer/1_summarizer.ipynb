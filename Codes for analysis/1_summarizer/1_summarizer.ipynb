{
 "cells": [
  {
   "cell_type": "code",
   "execution_count": 1,
   "id": "7b4bce38",
   "metadata": {},
   "outputs": [
    {
     "name": "stderr",
     "output_type": "stream",
     "text": [
      "USER_AGENT environment variable not set, consider setting it to identify your requests.\n"
     ]
    }
   ],
   "source": [
    "from summarizer import *\n",
    "import pandas as pd\n",
    "from tqdm.notebook import tqdm_notebook\n",
    "import pprint\n",
    "import json\n",
    "df=pd.read_csv(\"../../data.csv\")\n",
    "# Clean the 'University' column\n",
    "df['University'] = df['University'].replace('\\xa0', ' ', regex=True)  # Replace \\xa0 with space\n",
    "df['University'] = df['University'].str.strip()  # Remove leading and trailing spaces\n",
    "df['University'] = df['University'].str.replace(r'\\s+', ' ', regex=True)  # Replace multiple spaces with a single space"
   ]
  },
  {
   "cell_type": "code",
   "execution_count": 2,
   "id": "81c6bee8",
   "metadata": {},
   "outputs": [],
   "source": [
    "list_of_institutions=list((df[\"University\"]).unique())"
   ]
  },
  {
   "cell_type": "code",
   "execution_count": null,
   "id": "a4a9e3e4",
   "metadata": {},
   "outputs": [
    {
     "data": {
      "application/vnd.jupyter.widget-view+json": {
       "model_id": "9b3284059cf34ce0a2a3cd9643cc0b06",
       "version_major": 2,
       "version_minor": 0
      },
      "text/plain": [
       "  0%|          | 0/50 [00:00<?, ?it/s]"
      ]
     },
     "metadata": {},
     "output_type": "display_data"
    },
    {
     "name": "stdout",
     "output_type": "stream",
     "text": [
      "Failed to retrieve the PDF directly from https://ctl.wustl.edu/wp-content/uploads/2023/08/Establishing-the-Role-of-AI-in-Your-Classes-Handout.pdf, trying with user-agent download.\n",
      "File successfully downloaded: temp_downloaded_file.pdf\n",
      "Failed to retrieve the DOCX directly from https://cet.usc.edu/wp-content/uploads/2023/07/AI_Tools_for_Course_Design-1.docx, trying with user-agent download.\n",
      "File successfully downloaded: temp_downloaded_file.docx\n",
      "Failed to retrieve the DOCX directly from https://cet.usc.edu/wp-content/uploads/2023/08/Using-AI-generators-in-assignments.docx, trying with user-agent download.\n",
      "File successfully downloaded: temp_downloaded_file.docx\n",
      "Failed to retrieve the PDF directly from https://academicsenate.usc.edu/wp-content/uploads/sites/6/2023/02/CIS-Generative-AI-Guidelines-20230214.pdf, trying with user-agent download.\n",
      "File successfully downloaded: temp_downloaded_file.pdf\n",
      "Failed to retrieve the PDF directly from https://www.nyu.edu/content/dam/nyu/provost/documents/Chat%20GPT%20email.pdf, trying with user-agent download.\n",
      "File successfully downloaded: temp_downloaded_file.pdf\n",
      "Error loading non-PDF/DOCX content from https://www.rochester.edu/college/honesty/policy/index.html: HTTPSConnectionPool(host='www.rochester.edu', port=443): Max retries exceeded with url: /college/honesty/policy/index.html (Caused by NewConnectionError('<urllib3.connection.HTTPSConnection object at 0x000001BA07E77490>: Failed to establish a new connection: [WinError 10060] A connection attempt failed because the connected party did not properly respond after a period of time, or established connection failed because connected host has failed to respond'))\n"
     ]
    }
   ],
   "source": [
    "summaries = {}  # Initialize an empty dictionary to store summaries\n",
    "\n",
    "for i in tqdm_notebook(list_of_institutions):\n",
    "    df_university = df[df[\"University\"] == str(i)]  # Filter DataFrame for the specific university\n",
    "    df_university_urls = list(df_university[\"Link\"])  # Get list of URLs\n",
    "    texts = load_documents(df_university_urls)  # Load the documents from URLs\n",
    "    texts = clean_text_list(texts)  # Clean the text data\n",
    "    grand_texts = \" \".join(texts)  # Join all texts into a single string\n",
    "    summary = generate_response_openAI(grand_texts)  # Generate summary using OpenAI\n",
    "    summaries[i] = summary  # Add the summary to the dictionary with the institution as the key\n",
    "\n",
    "    # Save the summaries to a JSON file after every iteration\n",
    "    with open('../results/interim_results/summaries.json', 'w') as json_file:\n",
    "        json.dump(summaries, json_file, indent=4)"
   ]
  },
  {
   "cell_type": "code",
   "execution_count": null,
   "id": "3618de4d",
   "metadata": {},
   "outputs": [],
   "source": []
  }
 ],
 "metadata": {
  "kernelspec": {
   "display_name": "Python (pytorch_env)",
   "language": "python",
   "name": "pytorch_env"
  },
  "language_info": {
   "codemirror_mode": {
    "name": "ipython",
    "version": 3
   },
   "file_extension": ".py",
   "mimetype": "text/x-python",
   "name": "python",
   "nbconvert_exporter": "python",
   "pygments_lexer": "ipython3",
   "version": "3.9.19"
  }
 },
 "nbformat": 4,
 "nbformat_minor": 5
}
