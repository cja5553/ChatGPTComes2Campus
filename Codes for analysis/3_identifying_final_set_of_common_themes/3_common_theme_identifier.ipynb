{
 "cells": [
  {
   "cell_type": "code",
   "execution_count": 1,
   "id": "64359ecb",
   "metadata": {},
   "outputs": [],
   "source": [
    "from common_theme_extractor import *\n",
    "policies=read_file()"
   ]
  },
  {
   "cell_type": "code",
   "execution_count": 2,
   "id": "ca0f60f3",
   "metadata": {},
   "outputs": [],
   "source": [
    "sections = parse_sections(policies)\n",
    "# # Step 2: Get common themes from the model\n",
    "common_themes = get_common_themes(sections)\n",
    "# # Step 3: Clean the output (optional)\n",
    "cleaned_output = clean_output(common_themes)"
   ]
  },
  {
   "cell_type": "code",
   "execution_count": 3,
   "id": "282d65b7",
   "metadata": {},
   "outputs": [
    {
     "name": "stdout",
     "output_type": "stream",
     "text": [
      "1. **Key Point**: Academic Integrity and Responsible AI Use\n",
      "   **Explanation**: The majority of universities emphasize the importance of maintaining academic integrity when using AI tools. This includes clear guidelines on acceptable and unacceptable use of AI in academic work, with a focus on preventing plagiarism and unauthorized assistance. Institutions encourage students to disclose AI usage and ensure that their work remains original.\n",
      "   **Examples**: Universities like Georgetown, Harvard, Princeton, and Yale all highlight that using AI-generated content without proper citation is considered plagiarism. Similarly, Stanford and the University of Florida stress the need for students to disclose AI tool usage in their assignments.\n",
      "2. **Key Point**: Clear Communication of AI Policies\n",
      "   **Explanation**: Institutions consistently advocate for clear communication regarding AI usage policies in course syllabi. Faculty are encouraged to articulate their expectations for AI use, ensuring that students understand the guidelines and implications of using AI tools in their coursework.\n",
      "   **Examples**: Universities like Stanford, Duke, and the University of Michigan encourage instructors to include specific AI usage guidelines in their syllabi. The University of Pennsylvania and the University of California, Davis also emphasize the need for instructors to establish clear policies regarding AI use in coursework.\n",
      "3. **Key Point**: Data Privacy and Security Concerns\n",
      "   **Explanation**: A significant number of universities address the importance of data privacy and security when using AI tools. Policies often prohibit the input of sensitive or confidential information into AI systems, emphasizing the need for compliance with privacy regulations.\n",
      "   **Examples**: Harvard University and the University of California, Santa Barbara both stress that users must avoid entering personal or sensitive data into AI tools. Similarly, the University of Florida, Northwestern University, and Washington University in St. Louis highlight the necessity of protecting institutional data when using generative AI.\n",
      "4. **Key Point**: Ethical Considerations in AI Use\n",
      "   **Explanation**: Many institutions recognize the ethical implications of using AI tools, including issues related to bias, misinformation, and the potential for AI to perpetuate existing inequalities. Universities encourage critical engagement with AI outputs and discussions about the ethical use of these technologies.\n",
      "   **Examples**: Emory University, the University of Virginia, and the University of Chicago all emphasize the need for ethical considerations in AI applications, addressing topics such as bias and privacy. The University of California, Los Angeles also encourages ongoing evaluation of AI systems for fairness and transparency.\n",
      "5. **Key Point**: Continuous Adaptation and Policy Evolution\n",
      "   **Explanation**: Institutions acknowledge the rapidly evolving nature of AI technology and the need for ongoing updates to policies and practices. Many universities commit to regularly reviewing and adapting their AI guidelines to reflect advancements in technology and educational needs.\n",
      "   **Examples**: The University of Washington, the University of Notre Dame, Yale University, and the University of California, San Diego all mention the importance of continuously updating AI policies as technology evolves. Similarly, Texas A&M University and the University of Michigan emphasize the need for ongoing evaluation of AI tools and practices.\n",
      "6. **Key Point**: Documentation and Transparency in AI Usage\n",
      "   **Explanation**: Several universities require students and faculty to document their use of AI tools, ensuring transparency in how AI contributes to academic work. This includes providing prompts, outputs, and any modifications made to AI-generated content.\n",
      "   **Examples**: The University of Illinois Urbana-Champaign mandates that students document their use of generative AI, including prompts and outputs. Similarly, Carnegie Mellon University and the University of California, San Diego emphasize the importance of transparency in AI tool usage.\n",
      "7. **Key Point**: Instructor Discretion in AI Integration\n",
      "   **Explanation**: Many institutions grant instructors the authority to define their own policies regarding AI use in their courses. This allows for flexibility in how AI tools are integrated into teaching, depending on the specific context and learning objectives.\n",
      "   **Examples**: Duke University and Princeton University both allow instructors to set their own guidelines for AI use, while the University of Southern California notes that individual professors can establish their own policies regarding AI in academic work.\n"
     ]
    }
   ],
   "source": [
    "# Step 4: Print the output\n",
    "print(cleaned_output)"
   ]
  },
  {
   "cell_type": "code",
   "execution_count": null,
   "id": "5140094e",
   "metadata": {},
   "outputs": [],
   "source": [
    "def save_to_file(data, file_name='../results/final_results/key_points.txt'):\n",
    "    # Open the file in write mode ('w') to overwrite any existing content or create a new file\n",
    "    with open(file_name, 'w') as file:\n",
    "        file.write(data)  # Write the cleaned output to the file"
   ]
  },
  {
   "cell_type": "code",
   "execution_count": null,
   "id": "98226609",
   "metadata": {},
   "outputs": [],
   "source": [
    "save_to_file(cleaned_output, file_name='../results/final_results/key_points.txt')"
   ]
  },
  {
   "cell_type": "code",
   "execution_count": null,
   "id": "103e826e",
   "metadata": {},
   "outputs": [],
   "source": []
  }
 ],
 "metadata": {
  "kernelspec": {
   "display_name": "Python (pytorch_env)",
   "language": "python",
   "name": "pytorch_env"
  },
  "language_info": {
   "codemirror_mode": {
    "name": "ipython",
    "version": 3
   },
   "file_extension": ".py",
   "mimetype": "text/x-python",
   "name": "python",
   "nbconvert_exporter": "python",
   "pygments_lexer": "ipython3",
   "version": "3.9.19"
  }
 },
 "nbformat": 4,
 "nbformat_minor": 5
}
